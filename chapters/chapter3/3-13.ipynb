{
 "cells": [
  {
   "cell_type": "code",
   "execution_count": 1,
   "metadata": {},
   "outputs": [
    {
     "name": "stderr",
     "output_type": "stream",
     "text": [
      "WARNING:absl:InteractiveContext pipeline_root argument not provided: using temporary directory /var/folders/rm/yb4phhx53p59nxyws_sr42yr0000gn/T/tfx-interactive-2021-08-30T03_36_02.425528-qhec1etr as root for pipeline outputs.\n",
      "WARNING:absl:InteractiveContext metadata_connection_config not provided: using SQLite ML Metadata database at /var/folders/rm/yb4phhx53p59nxyws_sr42yr0000gn/T/tfx-interactive-2021-08-30T03_36_02.425528-qhec1etr/metadata.sqlite.\n",
      "/Users/chris/opt/anaconda3/lib/python3.8/site-packages/setuptools/distutils_patch.py:25: UserWarning: Distutils was imported before Setuptools. This usage is discouraged and may exhibit undesirable behaviors or errors. Please use Setuptools' objects directly or at least import Setuptools first.\n",
      "  warnings.warn(\n",
      "WARNING:apache_beam.runners.interactive.interactive_environment:Dependencies required for Interactive Beam PCollection visualization are not available, please use: `pip install apache-beam[interactive]` to install necessary dependencies to enable all data visualization features.\n"
     ]
    },
    {
     "data": {
      "application/javascript": [
       "\n",
       "        if (typeof window.interactive_beam_jquery == 'undefined') {\n",
       "          var jqueryScript = document.createElement('script');\n",
       "          jqueryScript.src = 'https://code.jquery.com/jquery-3.4.1.slim.min.js';\n",
       "          jqueryScript.type = 'text/javascript';\n",
       "          jqueryScript.onload = function() {\n",
       "            var datatableScript = document.createElement('script');\n",
       "            datatableScript.src = 'https://cdn.datatables.net/1.10.20/js/jquery.dataTables.min.js';\n",
       "            datatableScript.type = 'text/javascript';\n",
       "            datatableScript.onload = function() {\n",
       "              window.interactive_beam_jquery = jQuery.noConflict(true);\n",
       "              window.interactive_beam_jquery(document).ready(function($){\n",
       "                \n",
       "              });\n",
       "            }\n",
       "            document.head.appendChild(datatableScript);\n",
       "          };\n",
       "          document.head.appendChild(jqueryScript);\n",
       "        } else {\n",
       "          window.interactive_beam_jquery(document).ready(function($){\n",
       "            \n",
       "          });\n",
       "        }"
      ]
     },
     "metadata": {},
     "output_type": "display_data"
    },
    {
     "ename": "RuntimeError",
     "evalue": "Split pattern /Users/chris/Workspace/engineering/building-machine-learning-pipelines/chapters/chapter3/../../data/train/* does not match any files.",
     "output_type": "error",
     "traceback": [
      "\u001B[0;31m---------------------------------------------------------------------------\u001B[0m",
      "\u001B[0;31mRuntimeError\u001B[0m                              Traceback (most recent call last)",
      "\u001B[0;32m<ipython-input-1-e0d37968e87f>\u001B[0m in \u001B[0;36m<module>\u001B[0;34m\u001B[0m\n\u001B[1;32m     21\u001B[0m \u001B[0;31m# input_config 인수를 추가합니다.\u001B[0m\u001B[0;34m\u001B[0m\u001B[0;34m\u001B[0m\u001B[0;34m\u001B[0m\u001B[0m\n\u001B[1;32m     22\u001B[0m \u001B[0mexample_gen\u001B[0m \u001B[0;34m=\u001B[0m \u001B[0mCsvExampleGen\u001B[0m\u001B[0;34m(\u001B[0m\u001B[0minput_base\u001B[0m\u001B[0;34m=\u001B[0m\u001B[0mdata_dir\u001B[0m\u001B[0;34m,\u001B[0m \u001B[0minput_config\u001B[0m\u001B[0;34m=\u001B[0m\u001B[0minput\u001B[0m\u001B[0;34m)\u001B[0m\u001B[0;34m\u001B[0m\u001B[0;34m\u001B[0m\u001B[0m\n\u001B[0;32m---> 23\u001B[0;31m \u001B[0mcontext\u001B[0m\u001B[0;34m.\u001B[0m\u001B[0mrun\u001B[0m\u001B[0;34m(\u001B[0m\u001B[0mexample_gen\u001B[0m\u001B[0;34m)\u001B[0m\u001B[0;34m\u001B[0m\u001B[0;34m\u001B[0m\u001B[0m\n\u001B[0m",
      "\u001B[0;32m~/opt/anaconda3/lib/python3.8/site-packages/tfx/orchestration/experimental/interactive/interactive_context.py\u001B[0m in \u001B[0;36mrun_if_ipython\u001B[0;34m(*args, **kwargs)\u001B[0m\n\u001B[1;32m     66\u001B[0m       \u001B[0;31m# __IPYTHON__ variable is set by IPython, see\u001B[0m\u001B[0;34m\u001B[0m\u001B[0;34m\u001B[0m\u001B[0;34m\u001B[0m\u001B[0m\n\u001B[1;32m     67\u001B[0m       \u001B[0;31m# https://ipython.org/ipython-doc/rel-0.10.2/html/interactive/reference.html#embedding-ipython.\u001B[0m\u001B[0;34m\u001B[0m\u001B[0;34m\u001B[0m\u001B[0;34m\u001B[0m\u001B[0m\n\u001B[0;32m---> 68\u001B[0;31m       \u001B[0;32mreturn\u001B[0m \u001B[0mfn\u001B[0m\u001B[0;34m(\u001B[0m\u001B[0;34m*\u001B[0m\u001B[0margs\u001B[0m\u001B[0;34m,\u001B[0m \u001B[0;34m**\u001B[0m\u001B[0mkwargs\u001B[0m\u001B[0;34m)\u001B[0m\u001B[0;34m\u001B[0m\u001B[0;34m\u001B[0m\u001B[0m\n\u001B[0m\u001B[1;32m     69\u001B[0m     \u001B[0;32melse\u001B[0m\u001B[0;34m:\u001B[0m\u001B[0;34m\u001B[0m\u001B[0;34m\u001B[0m\u001B[0m\n\u001B[1;32m     70\u001B[0m       absl.logging.warning(\n",
      "\u001B[0;32m~/opt/anaconda3/lib/python3.8/site-packages/tfx/orchestration/experimental/interactive/interactive_context.py\u001B[0m in \u001B[0;36mrun\u001B[0;34m(self, component, enable_cache, beam_pipeline_args)\u001B[0m\n\u001B[1;32m    186\u001B[0m         \u001B[0mtelemetry_utils\u001B[0m\u001B[0;34m.\u001B[0m\u001B[0mLABEL_TFX_RUNNER\u001B[0m\u001B[0;34m:\u001B[0m \u001B[0mrunner_label\u001B[0m\u001B[0;34m,\u001B[0m\u001B[0;34m\u001B[0m\u001B[0;34m\u001B[0m\u001B[0m\n\u001B[1;32m    187\u001B[0m     }):\n\u001B[0;32m--> 188\u001B[0;31m       \u001B[0mexecution_id\u001B[0m \u001B[0;34m=\u001B[0m \u001B[0mlauncher\u001B[0m\u001B[0;34m.\u001B[0m\u001B[0mlaunch\u001B[0m\u001B[0;34m(\u001B[0m\u001B[0;34m)\u001B[0m\u001B[0;34m.\u001B[0m\u001B[0mexecution_id\u001B[0m\u001B[0;34m\u001B[0m\u001B[0;34m\u001B[0m\u001B[0m\n\u001B[0m\u001B[1;32m    189\u001B[0m \u001B[0;34m\u001B[0m\u001B[0m\n\u001B[1;32m    190\u001B[0m     return execution_result.ExecutionResult(\n",
      "\u001B[0;32m~/opt/anaconda3/lib/python3.8/site-packages/tfx/orchestration/launcher/base_component_launcher.py\u001B[0m in \u001B[0;36mlaunch\u001B[0;34m(self)\u001B[0m\n\u001B[1;32m    203\u001B[0m       \u001B[0;31m# be immutable in this context.\u001B[0m\u001B[0;34m\u001B[0m\u001B[0;34m\u001B[0m\u001B[0;34m\u001B[0m\u001B[0m\n\u001B[1;32m    204\u001B[0m       \u001B[0;31m# output_dict can still be changed, specifically properties.\u001B[0m\u001B[0;34m\u001B[0m\u001B[0;34m\u001B[0m\u001B[0;34m\u001B[0m\u001B[0m\n\u001B[0;32m--> 205\u001B[0;31m       self._run_executor(execution_decision.execution_id,\n\u001B[0m\u001B[1;32m    206\u001B[0m                          \u001B[0mcopy\u001B[0m\u001B[0;34m.\u001B[0m\u001B[0mdeepcopy\u001B[0m\u001B[0;34m(\u001B[0m\u001B[0mexecution_decision\u001B[0m\u001B[0;34m.\u001B[0m\u001B[0minput_dict\u001B[0m\u001B[0;34m)\u001B[0m\u001B[0;34m,\u001B[0m\u001B[0;34m\u001B[0m\u001B[0;34m\u001B[0m\u001B[0m\n\u001B[1;32m    207\u001B[0m                          \u001B[0mexecution_decision\u001B[0m\u001B[0;34m.\u001B[0m\u001B[0moutput_dict\u001B[0m\u001B[0;34m,\u001B[0m\u001B[0;34m\u001B[0m\u001B[0;34m\u001B[0m\u001B[0m\n",
      "\u001B[0;32m~/opt/anaconda3/lib/python3.8/site-packages/tfx/orchestration/launcher/in_process_component_launcher.py\u001B[0m in \u001B[0;36m_run_executor\u001B[0;34m(self, execution_id, input_dict, output_dict, exec_properties)\u001B[0m\n\u001B[1;32m     76\u001B[0m     \u001B[0;31m# be immutable in this context.\u001B[0m\u001B[0;34m\u001B[0m\u001B[0;34m\u001B[0m\u001B[0;34m\u001B[0m\u001B[0m\n\u001B[1;32m     77\u001B[0m     \u001B[0;31m# output_dict can still be changed, specifically properties.\u001B[0m\u001B[0;34m\u001B[0m\u001B[0;34m\u001B[0m\u001B[0;34m\u001B[0m\u001B[0m\n\u001B[0;32m---> 78\u001B[0;31m     executor.Do(\n\u001B[0m\u001B[1;32m     79\u001B[0m         copy.deepcopy(input_dict), output_dict, copy.deepcopy(exec_properties))\n",
      "\u001B[0;32m~/opt/anaconda3/lib/python3.8/site-packages/tfx/components/example_gen/base_example_gen_executor.py\u001B[0m in \u001B[0;36mDo\u001B[0;34m(self, input_dict, output_dict, exec_properties)\u001B[0m\n\u001B[1;32m    277\u001B[0m     \u001B[0mlogging\u001B[0m\u001B[0;34m.\u001B[0m\u001B[0minfo\u001B[0m\u001B[0;34m(\u001B[0m\u001B[0;34m'Generating examples.'\u001B[0m\u001B[0;34m)\u001B[0m\u001B[0;34m\u001B[0m\u001B[0;34m\u001B[0m\u001B[0m\n\u001B[1;32m    278\u001B[0m     \u001B[0;32mwith\u001B[0m \u001B[0mself\u001B[0m\u001B[0;34m.\u001B[0m\u001B[0m_make_beam_pipeline\u001B[0m\u001B[0;34m(\u001B[0m\u001B[0;34m)\u001B[0m \u001B[0;32mas\u001B[0m \u001B[0mpipeline\u001B[0m\u001B[0;34m:\u001B[0m\u001B[0;34m\u001B[0m\u001B[0;34m\u001B[0m\u001B[0m\n\u001B[0;32m--> 279\u001B[0;31m       \u001B[0mexample_splits\u001B[0m \u001B[0;34m=\u001B[0m \u001B[0mself\u001B[0m\u001B[0;34m.\u001B[0m\u001B[0mGenerateExamplesByBeam\u001B[0m\u001B[0;34m(\u001B[0m\u001B[0mpipeline\u001B[0m\u001B[0;34m,\u001B[0m \u001B[0mexec_properties\u001B[0m\u001B[0;34m)\u001B[0m\u001B[0;34m\u001B[0m\u001B[0;34m\u001B[0m\u001B[0m\n\u001B[0m\u001B[1;32m    280\u001B[0m \u001B[0;34m\u001B[0m\u001B[0m\n\u001B[1;32m    281\u001B[0m       \u001B[0;31m# pylint: disable=expression-not-assigned, no-value-for-parameter\u001B[0m\u001B[0;34m\u001B[0m\u001B[0;34m\u001B[0m\u001B[0;34m\u001B[0m\u001B[0m\n",
      "\u001B[0;32m~/opt/anaconda3/lib/python3.8/site-packages/tfx/components/example_gen/base_example_gen_executor.py\u001B[0m in \u001B[0;36mGenerateExamplesByBeam\u001B[0;34m(self, pipeline, exec_properties)\u001B[0m\n\u001B[1;32m    209\u001B[0m       \u001B[0;32mfor\u001B[0m \u001B[0msplit\u001B[0m \u001B[0;32min\u001B[0m \u001B[0minput_config\u001B[0m\u001B[0;34m.\u001B[0m\u001B[0msplits\u001B[0m\u001B[0;34m:\u001B[0m\u001B[0;34m\u001B[0m\u001B[0;34m\u001B[0m\u001B[0m\n\u001B[1;32m    210\u001B[0m         examples = (\n\u001B[0;32m--> 211\u001B[0;31m             \u001B[0mpipeline\u001B[0m\u001B[0;34m\u001B[0m\u001B[0;34m\u001B[0m\u001B[0m\n\u001B[0m\u001B[1;32m    212\u001B[0m             \u001B[0;34m|\u001B[0m \u001B[0;34m'InputToRecord[{}]'\u001B[0m\u001B[0;34m.\u001B[0m\u001B[0mformat\u001B[0m\u001B[0;34m(\u001B[0m\u001B[0msplit\u001B[0m\u001B[0;34m.\u001B[0m\u001B[0mname\u001B[0m\u001B[0;34m)\u001B[0m \u001B[0;34m>>\u001B[0m\u001B[0;34m\u001B[0m\u001B[0;34m\u001B[0m\u001B[0m\n\u001B[1;32m    213\u001B[0m             \u001B[0;31m# pylint: disable=no-value-for-parameter\u001B[0m\u001B[0;34m\u001B[0m\u001B[0;34m\u001B[0m\u001B[0;34m\u001B[0m\u001B[0m\n",
      "\u001B[0;32m~/opt/anaconda3/lib/python3.8/site-packages/apache_beam/transforms/ptransform.py\u001B[0m in \u001B[0;36m__ror__\u001B[0;34m(self, pvalueish, _unused)\u001B[0m\n\u001B[1;32m   1089\u001B[0m \u001B[0;34m\u001B[0m\u001B[0m\n\u001B[1;32m   1090\u001B[0m   \u001B[0;32mdef\u001B[0m \u001B[0m__ror__\u001B[0m\u001B[0;34m(\u001B[0m\u001B[0mself\u001B[0m\u001B[0;34m,\u001B[0m \u001B[0mpvalueish\u001B[0m\u001B[0;34m,\u001B[0m \u001B[0m_unused\u001B[0m\u001B[0;34m=\u001B[0m\u001B[0;32mNone\u001B[0m\u001B[0;34m)\u001B[0m\u001B[0;34m:\u001B[0m\u001B[0;34m\u001B[0m\u001B[0;34m\u001B[0m\u001B[0m\n\u001B[0;32m-> 1091\u001B[0;31m     \u001B[0;32mreturn\u001B[0m \u001B[0mself\u001B[0m\u001B[0;34m.\u001B[0m\u001B[0mtransform\u001B[0m\u001B[0;34m.\u001B[0m\u001B[0m__ror__\u001B[0m\u001B[0;34m(\u001B[0m\u001B[0mpvalueish\u001B[0m\u001B[0;34m,\u001B[0m \u001B[0mself\u001B[0m\u001B[0;34m.\u001B[0m\u001B[0mlabel\u001B[0m\u001B[0;34m)\u001B[0m\u001B[0;34m\u001B[0m\u001B[0;34m\u001B[0m\u001B[0m\n\u001B[0m\u001B[1;32m   1092\u001B[0m \u001B[0;34m\u001B[0m\u001B[0m\n\u001B[1;32m   1093\u001B[0m   \u001B[0;32mdef\u001B[0m \u001B[0mexpand\u001B[0m\u001B[0;34m(\u001B[0m\u001B[0mself\u001B[0m\u001B[0;34m,\u001B[0m \u001B[0mpvalue\u001B[0m\u001B[0;34m)\u001B[0m\u001B[0;34m:\u001B[0m\u001B[0;34m\u001B[0m\u001B[0;34m\u001B[0m\u001B[0m\n",
      "\u001B[0;32m~/opt/anaconda3/lib/python3.8/site-packages/apache_beam/transforms/ptransform.py\u001B[0m in \u001B[0;36m__ror__\u001B[0;34m(self, left, label)\u001B[0m\n\u001B[1;32m    604\u001B[0m     \u001B[0mpvalueish\u001B[0m \u001B[0;34m=\u001B[0m \u001B[0m_SetInputPValues\u001B[0m\u001B[0;34m(\u001B[0m\u001B[0;34m)\u001B[0m\u001B[0;34m.\u001B[0m\u001B[0mvisit\u001B[0m\u001B[0;34m(\u001B[0m\u001B[0mpvalueish\u001B[0m\u001B[0;34m,\u001B[0m \u001B[0mreplacements\u001B[0m\u001B[0;34m)\u001B[0m\u001B[0;34m\u001B[0m\u001B[0;34m\u001B[0m\u001B[0m\n\u001B[1;32m    605\u001B[0m     \u001B[0mself\u001B[0m\u001B[0;34m.\u001B[0m\u001B[0mpipeline\u001B[0m \u001B[0;34m=\u001B[0m \u001B[0mp\u001B[0m\u001B[0;34m\u001B[0m\u001B[0;34m\u001B[0m\u001B[0m\n\u001B[0;32m--> 606\u001B[0;31m     \u001B[0mresult\u001B[0m \u001B[0;34m=\u001B[0m \u001B[0mp\u001B[0m\u001B[0;34m.\u001B[0m\u001B[0mapply\u001B[0m\u001B[0;34m(\u001B[0m\u001B[0mself\u001B[0m\u001B[0;34m,\u001B[0m \u001B[0mpvalueish\u001B[0m\u001B[0;34m,\u001B[0m \u001B[0mlabel\u001B[0m\u001B[0;34m)\u001B[0m\u001B[0;34m\u001B[0m\u001B[0;34m\u001B[0m\u001B[0m\n\u001B[0m\u001B[1;32m    607\u001B[0m     \u001B[0;32mif\u001B[0m \u001B[0mdeferred\u001B[0m\u001B[0;34m:\u001B[0m\u001B[0;34m\u001B[0m\u001B[0;34m\u001B[0m\u001B[0m\n\u001B[1;32m    608\u001B[0m       \u001B[0;32mreturn\u001B[0m \u001B[0mresult\u001B[0m\u001B[0;34m\u001B[0m\u001B[0;34m\u001B[0m\u001B[0m\n",
      "\u001B[0;32m~/opt/anaconda3/lib/python3.8/site-packages/apache_beam/pipeline.py\u001B[0m in \u001B[0;36mapply\u001B[0;34m(self, transform, pvalueish, label)\u001B[0m\n\u001B[1;32m    649\u001B[0m       \u001B[0;32mtry\u001B[0m\u001B[0;34m:\u001B[0m\u001B[0;34m\u001B[0m\u001B[0;34m\u001B[0m\u001B[0m\n\u001B[1;32m    650\u001B[0m         \u001B[0mold_label\u001B[0m\u001B[0;34m,\u001B[0m \u001B[0mtransform\u001B[0m\u001B[0;34m.\u001B[0m\u001B[0mlabel\u001B[0m \u001B[0;34m=\u001B[0m \u001B[0mtransform\u001B[0m\u001B[0;34m.\u001B[0m\u001B[0mlabel\u001B[0m\u001B[0;34m,\u001B[0m \u001B[0mlabel\u001B[0m\u001B[0;34m\u001B[0m\u001B[0;34m\u001B[0m\u001B[0m\n\u001B[0;32m--> 651\u001B[0;31m         \u001B[0;32mreturn\u001B[0m \u001B[0mself\u001B[0m\u001B[0;34m.\u001B[0m\u001B[0mapply\u001B[0m\u001B[0;34m(\u001B[0m\u001B[0mtransform\u001B[0m\u001B[0;34m,\u001B[0m \u001B[0mpvalueish\u001B[0m\u001B[0;34m)\u001B[0m\u001B[0;34m\u001B[0m\u001B[0;34m\u001B[0m\u001B[0m\n\u001B[0m\u001B[1;32m    652\u001B[0m       \u001B[0;32mfinally\u001B[0m\u001B[0;34m:\u001B[0m\u001B[0;34m\u001B[0m\u001B[0;34m\u001B[0m\u001B[0m\n\u001B[1;32m    653\u001B[0m         \u001B[0mtransform\u001B[0m\u001B[0;34m.\u001B[0m\u001B[0mlabel\u001B[0m \u001B[0;34m=\u001B[0m \u001B[0mold_label\u001B[0m\u001B[0;34m\u001B[0m\u001B[0;34m\u001B[0m\u001B[0m\n",
      "\u001B[0;32m~/opt/anaconda3/lib/python3.8/site-packages/apache_beam/pipeline.py\u001B[0m in \u001B[0;36mapply\u001B[0;34m(self, transform, pvalueish, label)\u001B[0m\n\u001B[1;32m    692\u001B[0m         \u001B[0mtransform\u001B[0m\u001B[0;34m.\u001B[0m\u001B[0mtype_check_inputs\u001B[0m\u001B[0;34m(\u001B[0m\u001B[0mpvalueish\u001B[0m\u001B[0;34m)\u001B[0m\u001B[0;34m\u001B[0m\u001B[0;34m\u001B[0m\u001B[0m\n\u001B[1;32m    693\u001B[0m \u001B[0;34m\u001B[0m\u001B[0m\n\u001B[0;32m--> 694\u001B[0;31m       \u001B[0mpvalueish_result\u001B[0m \u001B[0;34m=\u001B[0m \u001B[0mself\u001B[0m\u001B[0;34m.\u001B[0m\u001B[0mrunner\u001B[0m\u001B[0;34m.\u001B[0m\u001B[0mapply\u001B[0m\u001B[0;34m(\u001B[0m\u001B[0mtransform\u001B[0m\u001B[0;34m,\u001B[0m \u001B[0mpvalueish\u001B[0m\u001B[0;34m,\u001B[0m \u001B[0mself\u001B[0m\u001B[0;34m.\u001B[0m\u001B[0m_options\u001B[0m\u001B[0;34m)\u001B[0m\u001B[0;34m\u001B[0m\u001B[0;34m\u001B[0m\u001B[0m\n\u001B[0m\u001B[1;32m    695\u001B[0m \u001B[0;34m\u001B[0m\u001B[0m\n\u001B[1;32m    696\u001B[0m       \u001B[0;32mif\u001B[0m \u001B[0mtype_options\u001B[0m \u001B[0;32mis\u001B[0m \u001B[0;32mnot\u001B[0m \u001B[0;32mNone\u001B[0m \u001B[0;32mand\u001B[0m \u001B[0mtype_options\u001B[0m\u001B[0;34m.\u001B[0m\u001B[0mpipeline_type_check\u001B[0m\u001B[0;34m:\u001B[0m\u001B[0;34m\u001B[0m\u001B[0;34m\u001B[0m\u001B[0m\n",
      "\u001B[0;32m~/opt/anaconda3/lib/python3.8/site-packages/apache_beam/runners/runner.py\u001B[0m in \u001B[0;36mapply\u001B[0;34m(self, transform, input, options)\u001B[0m\n\u001B[1;32m    183\u001B[0m       \u001B[0mm\u001B[0m \u001B[0;34m=\u001B[0m \u001B[0mgetattr\u001B[0m\u001B[0;34m(\u001B[0m\u001B[0mself\u001B[0m\u001B[0;34m,\u001B[0m \u001B[0;34m'apply_%s'\u001B[0m \u001B[0;34m%\u001B[0m \u001B[0mcls\u001B[0m\u001B[0;34m.\u001B[0m\u001B[0m__name__\u001B[0m\u001B[0;34m,\u001B[0m \u001B[0;32mNone\u001B[0m\u001B[0;34m)\u001B[0m\u001B[0;34m\u001B[0m\u001B[0;34m\u001B[0m\u001B[0m\n\u001B[1;32m    184\u001B[0m       \u001B[0;32mif\u001B[0m \u001B[0mm\u001B[0m\u001B[0;34m:\u001B[0m\u001B[0;34m\u001B[0m\u001B[0;34m\u001B[0m\u001B[0m\n\u001B[0;32m--> 185\u001B[0;31m         \u001B[0;32mreturn\u001B[0m \u001B[0mm\u001B[0m\u001B[0;34m(\u001B[0m\u001B[0mtransform\u001B[0m\u001B[0;34m,\u001B[0m \u001B[0minput\u001B[0m\u001B[0;34m,\u001B[0m \u001B[0moptions\u001B[0m\u001B[0;34m)\u001B[0m\u001B[0;34m\u001B[0m\u001B[0;34m\u001B[0m\u001B[0m\n\u001B[0m\u001B[1;32m    186\u001B[0m     raise NotImplementedError(\n\u001B[1;32m    187\u001B[0m         'Execution of [%s] not implemented in runner %s.' % (transform, self))\n",
      "\u001B[0;32m~/opt/anaconda3/lib/python3.8/site-packages/apache_beam/runners/runner.py\u001B[0m in \u001B[0;36mapply_PTransform\u001B[0;34m(self, transform, input, options)\u001B[0m\n\u001B[1;32m    213\u001B[0m   \u001B[0;32mdef\u001B[0m \u001B[0mapply_PTransform\u001B[0m\u001B[0;34m(\u001B[0m\u001B[0mself\u001B[0m\u001B[0;34m,\u001B[0m \u001B[0mtransform\u001B[0m\u001B[0;34m,\u001B[0m \u001B[0minput\u001B[0m\u001B[0;34m,\u001B[0m \u001B[0moptions\u001B[0m\u001B[0;34m)\u001B[0m\u001B[0;34m:\u001B[0m\u001B[0;34m\u001B[0m\u001B[0;34m\u001B[0m\u001B[0m\n\u001B[1;32m    214\u001B[0m     \u001B[0;31m# The base case of apply is to call the transform's expand.\u001B[0m\u001B[0;34m\u001B[0m\u001B[0;34m\u001B[0m\u001B[0;34m\u001B[0m\u001B[0m\n\u001B[0;32m--> 215\u001B[0;31m     \u001B[0;32mreturn\u001B[0m \u001B[0mtransform\u001B[0m\u001B[0;34m.\u001B[0m\u001B[0mexpand\u001B[0m\u001B[0;34m(\u001B[0m\u001B[0minput\u001B[0m\u001B[0;34m)\u001B[0m\u001B[0;34m\u001B[0m\u001B[0;34m\u001B[0m\u001B[0m\n\u001B[0m\u001B[1;32m    216\u001B[0m \u001B[0;34m\u001B[0m\u001B[0m\n\u001B[1;32m    217\u001B[0m   def run_transform(self,\n",
      "\u001B[0;32m~/opt/anaconda3/lib/python3.8/site-packages/tfx/components/example_gen/csv_example_gen/executor.py\u001B[0m in \u001B[0;36mexpand\u001B[0;34m(self, pipeline)\u001B[0m\n\u001B[1;32m    186\u001B[0m     \u001B[0mcsv_files\u001B[0m \u001B[0;34m=\u001B[0m \u001B[0mfileio\u001B[0m\u001B[0;34m.\u001B[0m\u001B[0mglob\u001B[0m\u001B[0;34m(\u001B[0m\u001B[0mself\u001B[0m\u001B[0;34m.\u001B[0m\u001B[0m_csv_pattern\u001B[0m\u001B[0;34m)\u001B[0m\u001B[0;34m\u001B[0m\u001B[0;34m\u001B[0m\u001B[0m\n\u001B[1;32m    187\u001B[0m     \u001B[0;32mif\u001B[0m \u001B[0;32mnot\u001B[0m \u001B[0mcsv_files\u001B[0m\u001B[0;34m:\u001B[0m\u001B[0;34m\u001B[0m\u001B[0;34m\u001B[0m\u001B[0m\n\u001B[0;32m--> 188\u001B[0;31m       raise RuntimeError('Split pattern {} does not match any files.'.format(\n\u001B[0m\u001B[1;32m    189\u001B[0m           self._csv_pattern))\n\u001B[1;32m    190\u001B[0m \u001B[0;34m\u001B[0m\u001B[0m\n",
      "\u001B[0;31mRuntimeError\u001B[0m: Split pattern /Users/chris/Workspace/engineering/building-machine-learning-pipelines/chapters/chapter3/../../data/train/* does not match any files."
     ]
    }
   ],
   "source": [
    "import os\n",
    "from pathlib import Path\n",
    "\n",
    "from tfx.components import CsvExampleGen\n",
    "from tfx.proto import example_gen_pb2\n",
    "\n",
    "from tfx.orchestration.experimental.interactive.interactive_context import InteractiveContext\n",
    "\n",
    "context = InteractiveContext()\n",
    "\n",
    "dir_path = Path().parent.absolute()\n",
    "data_dir = os.path.join(dir_path, \"..\", \"..\", \"data\", \"tfrecord\")\n",
    "\n",
    "tfrecord_filename = \"consumer-complaints.tfrecord\"\n",
    "tfrecord_filepath = os.path.join(data_dir, tfrecord_filename)\n",
    "\n",
    "# 기존 하위 디렉터리를 설정합니다.\n",
    "input = example_gen_pb2.Input(splits=[\n",
    "    example_gen_pb2.Input.Split(name='train', pattern='train/*'),\n",
    "    example_gen_pb2.Input.Split(name='eval', pattern='eval/*'),\n",
    "    example_gen_pb2.Input.Split(name='test', pattern='test/*')\n",
    "])\n",
    "\n",
    "# input_config 인수를 추가합니다.\n",
    "example_gen = CsvExampleGen(input_base=data_dir, input_config=input)\n",
    "context.run(example_gen)"
   ]
  },
  {
   "cell_type": "code",
   "execution_count": null,
   "metadata": {},
   "outputs": [],
   "source": []
  }
 ],
 "metadata": {
  "kernelspec": {
   "display_name": "Python 3",
   "language": "python",
   "name": "python3"
  },
  "language_info": {
   "codemirror_mode": {
    "name": "ipython",
    "version": 3
   },
   "file_extension": ".py",
   "mimetype": "text/x-python",
   "name": "python",
   "nbconvert_exporter": "python",
   "pygments_lexer": "ipython3",
   "version": "3.8.3"
  }
 },
 "nbformat": 4,
 "nbformat_minor": 1
}
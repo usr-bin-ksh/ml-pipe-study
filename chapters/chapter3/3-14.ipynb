{
 "cells": [
  {
   "cell_type": "code",
   "execution_count": null,
   "metadata": {
    "collapsed": true
   },
   "outputs": [],
   "source": [
    "import os\n",
    "\n",
    "from tfx.components import CsvExampleGen\n",
    "from tfx.proto import example_gen_pb2\n",
    "from tfx.orchestration.experimental.interactive.interactive_context import InteractiveContext\n",
    "\n",
    "context = InteractiveContext()\n",
    "\n",
    "base_dir = os.getcwd()\n",
    "data_dir = os.path.join(os.pardir, \"data\")\n",
    "\n",
    "input = example_gen_pb2.Input(splits=[\n",
    "    example_gen_pb2.Input.Split(pattern='export-{SPAN}/*')\n",
    "])\n",
    "\n",
    "example_gen = CsvExampleGen(input_base=os.path.join(base_dir, data_dir), input_config=input)\n",
    "context.run(example_gen)\n"
   ]
  }
 ],
 "metadata": {
  "kernelspec": {
   "display_name": "Python 3",
   "language": "python",
   "name": "python3"
  },
  "language_info": {
   "codemirror_mode": {
    "name": "ipython",
    "version": 2
   },
   "file_extension": ".py",
   "mimetype": "text/x-python",
   "name": "python",
   "nbconvert_exporter": "python",
   "pygments_lexer": "ipython2",
   "version": "2.7.6"
  }
 },
 "nbformat": 4,
 "nbformat_minor": 0
}
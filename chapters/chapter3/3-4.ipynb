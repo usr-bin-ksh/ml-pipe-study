{
 "cells": [
  {
   "cell_type": "code",
   "execution_count": null,
   "metadata": {
    "collapsed": true
   },
   "outputs": [],
   "source": [
    "from tfx.components.base import executor_spec\n",
    "# 일반 파일 로더 컴포넌트를 가져옵니다.\n",
    "from tfx.components import FileBasedExampleGen\n",
    "# 파케이 관련 실행자를 가져옵니다.\n",
    "from tfx.components.example_gen.custom_executors import parquet_executor\n",
    "\n",
    "parquet_dir_path = \"parquet_data\"\n",
    "\n",
    "# Executor를 재정의합니다.\n",
    "example_gen = FileBasedExampleGen(\n",
    "    input_base=parquet_dir_path,\n",
    "    custom_executor_spec=executor_spec.ExecutorClassSpec(\n",
    "        parquet_executor.Executor))"
   ]
  }
 ],
 "metadata": {
  "kernelspec": {
   "display_name": "Python 3",
   "language": "python",
   "name": "python3"
  },
  "language_info": {
   "codemirror_mode": {
    "name": "ipython",
    "version": 2
   },
   "file_extension": ".py",
   "mimetype": "text/x-python",
   "name": "python",
   "nbconvert_exporter": "python",
   "pygments_lexer": "ipython2",
   "version": "2.7.6"
  }
 },
 "nbformat": 4,
 "nbformat_minor": 0
}